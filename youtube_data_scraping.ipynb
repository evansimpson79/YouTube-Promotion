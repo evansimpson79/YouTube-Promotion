{
 "cells": [
  {
   "cell_type": "markdown",
   "metadata": {},
   "source": [
    "# YouTube Data Scraping"
   ]
  },
  {
   "cell_type": "code",
   "execution_count": 1,
   "metadata": {
    "ExecuteTime": {
     "end_time": "2020-01-13T05:09:33.817204Z",
     "start_time": "2020-01-13T05:09:32.685884Z"
    }
   },
   "outputs": [],
   "source": [
    "from urllib.request import urlopen\n",
    "import json\n",
    "import pafy\n",
    "import pandas as pd"
   ]
  },
  {
   "cell_type": "code",
   "execution_count": 2,
   "metadata": {
    "ExecuteTime": {
     "end_time": "2020-01-13T05:09:44.224070Z",
     "start_time": "2020-01-13T05:09:44.219727Z"
    }
   },
   "outputs": [],
   "source": [
    "from google_auth import api_key"
   ]
  },
  {
   "cell_type": "code",
   "execution_count": 3,
   "metadata": {
    "ExecuteTime": {
     "end_time": "2018-01-13T05:10:12.646554Z",
     "start_time": "2018-01-13T05:10:12.612405Z"
    }
   },
   "outputs": [],
   "source": [
    "def get_all_video_in_channel(channel_id):\n",
    "    base_video_url = 'https://www.youtube.com/watch?v='\n",
    "    base_search_url = 'https://www.googleapis.com/youtube/v3/search?'\n",
    "\n",
    "    first_url = base_search_url+'key={}&channelId={}&part=snippet,id&order=date&maxResults=25'.format(api_key, channel_id)\n",
    "\n",
    "    video_links = []\n",
    "    url = first_url\n",
    "    while True:\n",
    "        inp = urlopen(url)\n",
    "        resp = json.load(inp)\n",
    "\n",
    "        for i in resp['items']:\n",
    "            if i['id']['kind'] == \"youtube#video\":\n",
    "                video_links.append(base_video_url + i['id']['videoId'])\n",
    "\n",
    "        try:\n",
    "            next_page_token = resp['nextPageToken']\n",
    "            url = first_url + '&pageToken={}'.format(next_page_token)\n",
    "        except:\n",
    "            break\n",
    "    return video_links"
   ]
  },
  {
   "cell_type": "code",
   "execution_count": 5,
   "metadata": {
    "ExecuteTime": {
     "end_time": "2020-01-13T05:10:38.476592Z",
     "start_time": "2020-01-13T05:10:33.202549Z"
    }
   },
   "outputs": [],
   "source": [
    "channel_id = \"UClzR7HySZTVb6g-tSzAhi5A\"\n",
    "video_urls = get_all_video_in_channel(channel_id)"
   ]
  },
  {
   "cell_type": "code",
   "execution_count": null,
   "metadata": {},
   "outputs": [],
   "source": [
    "results = []\n",
    "\n",
    "for url in video_urls: \n",
    "    test = pafy.new(url)\n",
    "    result = test.published,test.title, test.rating, test.viewcount, test.duration, test.likes, url\n",
    "    results.append(result)\n",
    "    #print(test.title)"
   ]
  },
  {
   "cell_type": "code",
   "execution_count": null,
   "metadata": {},
   "outputs": [],
   "source": [
    "print(\"The link to the first video is: \" + results[-1][-1])\n",
    "print(\"The link to the most recent video is: \" + results[0][-1])"
   ]
  },
  {
   "cell_type": "code",
   "execution_count": null,
   "metadata": {},
   "outputs": [],
   "source": [
    "df = pd.DataFrame(results, columns = [\"Date\", \"Title\", \"Rating\", \"View Count\", \"Duration\", \"Likes\", \"URL\"])\n",
    "df.head()"
   ]
  },
  {
   "cell_type": "code",
   "execution_count": null,
   "metadata": {},
   "outputs": [],
   "source": [
    "df.tail"
   ]
  },
  {
   "cell_type": "code",
   "execution_count": null,
   "metadata": {},
   "outputs": [],
   "source": [
    "least_viewed = df.sort_values(by='View Count')\n",
    "least_viewed.head()"
   ]
  },
  {
   "cell_type": "code",
   "execution_count": null,
   "metadata": {},
   "outputs": [],
   "source": [
    "least_viewed_url = least_viewed.iloc[0, 6]\n",
    "least_view_title = least_viewed.iloc[0,1]\n",
    "print(\"The video with the fewest views is '{}' and it's link is: {}.\".format(least_view_title, least_viewed_url))"
   ]
  },
  {
   "cell_type": "code",
   "execution_count": null,
   "metadata": {},
   "outputs": [],
   "source": [
    "message = \"Learning #Chinese ? Me too! Check out my video '{}' here: {}\".format(least_view_title, least_viewed_url)\n",
    "print(message)"
   ]
  },
  {
   "cell_type": "code",
   "execution_count": null,
   "metadata": {},
   "outputs": [],
   "source": [
    "from twython import Twython\n",
    "from twitter_auth import (\n",
    "    consumer_key, \n",
    "    consumer_secret,\n",
    "    access_token, \n",
    "    access_token_secret\n",
    ")"
   ]
  },
  {
   "cell_type": "code",
   "execution_count": null,
   "metadata": {},
   "outputs": [],
   "source": [
    "twitter = Twython(\n",
    "    consumer_key,\n",
    "    consumer_secret,\n",
    "    access_token,\n",
    "    access_token_secret)"
   ]
  },
  {
   "cell_type": "code",
   "execution_count": null,
   "metadata": {},
   "outputs": [],
   "source": [
    "twitter.update_status(status=message)"
   ]
  }
 ],
 "metadata": {
  "kernelspec": {
   "display_name": "Python [conda env:anaconda3]",
   "language": "python",
   "name": "conda-env-anaconda3-py"
  },
  "language_info": {
   "codemirror_mode": {
    "name": "ipython",
    "version": 3
   },
   "file_extension": ".py",
   "mimetype": "text/x-python",
   "name": "python",
   "nbconvert_exporter": "python",
   "pygments_lexer": "ipython3",
   "version": "3.6.2"
  }
 },
 "nbformat": 4,
 "nbformat_minor": 2
}
